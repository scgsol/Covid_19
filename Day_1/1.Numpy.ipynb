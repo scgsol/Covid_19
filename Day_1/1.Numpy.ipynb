{
 "cells": [
  {
   "cell_type": "markdown",
   "metadata": {},
   "source": [
    "#  Numpy is a python library for scientific computing application. \n",
    "##  Numerical python.\n",
    "###  It is most basic and a powerful package for scientific computing and data          manupulation in python. \n",
    "\n",
    "### installation \n",
    "\n",
    "pip install numpy\n",
    "\n",
    "### for import \n",
    "\n",
    "import numpy as np\n",
    "\n",
    "\n"
   ]
  },
  {
   "cell_type": "code",
   "execution_count": 1,
   "metadata": {},
   "outputs": [],
   "source": [
    "import numpy as np"
   ]
  },
  {
   "cell_type": "code",
   "execution_count": 2,
   "metadata": {},
   "outputs": [],
   "source": [
    "#create 1 d array \n",
    "\n",
    "a = np.array([4,5])"
   ]
  },
  {
   "cell_type": "code",
   "execution_count": 3,
   "metadata": {},
   "outputs": [
    {
     "name": "stdout",
     "output_type": "stream",
     "text": [
      "[4 5]\n"
     ]
    }
   ],
   "source": [
    "print(a)"
   ]
  },
  {
   "cell_type": "code",
   "execution_count": 4,
   "metadata": {},
   "outputs": [
    {
     "name": "stdout",
     "output_type": "stream",
     "text": [
      "[1, 5, 8]\n",
      "[1 5 8]\n"
     ]
    }
   ],
   "source": [
    "# in case of list \n",
    "\n",
    "list1 = [1,5,8]\n",
    "\n",
    "print(list1)\n",
    "\n",
    "# in case of array\n",
    "array1 = np.array(list1)\n",
    "\n",
    "print(array1)\n"
   ]
  },
  {
   "cell_type": "code",
   "execution_count": 5,
   "metadata": {},
   "outputs": [
    {
     "name": "stdout",
     "output_type": "stream",
     "text": [
      "[[1 2 3]\n",
      " [5 8 9]]\n"
     ]
    }
   ],
   "source": [
    "## creating multidimensional array\n",
    "\n",
    "myarry = np.array([[1,2,3],[5,8,9]])\n",
    "\n",
    "print(myarry)\n"
   ]
  },
  {
   "cell_type": "code",
   "execution_count": 6,
   "metadata": {},
   "outputs": [
    {
     "name": "stdout",
     "output_type": "stream",
     "text": [
      "[list([1, 2, 3, 8]) list([5, 8, 9])]\n"
     ]
    }
   ],
   "source": [
    "#experiment\n",
    "myarry = np.array([[1,2,3,8],[5,8,9]])\n",
    "\n",
    "print(myarry)\n",
    "\n"
   ]
  },
  {
   "cell_type": "markdown",
   "metadata": {},
   "source": [
    "# indexing of array\n",
    "#### accessing the data \n",
    "## for 1D <array-name>|<index>|\n",
    "#3 for 2D <array-name>[row][col]"
   ]
  },
  {
   "cell_type": "code",
   "execution_count": 32,
   "metadata": {},
   "outputs": [
    {
     "name": "stdout",
     "output_type": "stream",
     "text": [
      "74\n",
      "74\n"
     ]
    }
   ],
   "source": [
    "## indexing for 1 d array\n",
    "\n",
    "e = np.array([1,5,85,74,88,723])\n",
    "r = e[3] ##positive index\n",
    "print(r)\n",
    "\n",
    "## negative indexing\n",
    "\n",
    "t = e[-3]\n",
    "print(t)\n",
    "\n",
    "\n",
    "## positive index starts with 0\n",
    "## negative index starts with 1 but from the end element"
   ]
  },
  {
   "cell_type": "code",
   "execution_count": 33,
   "metadata": {},
   "outputs": [
    {
     "name": "stdout",
     "output_type": "stream",
     "text": [
      "[[ 1  2  5  6  7]\n",
      " [ 8  9 10 11 12]\n",
      " [13 14 15 16 17]]\n",
      " \n",
      "5\n",
      " \n",
      "[[ 1  2  5  6  7]\n",
      " [ 8  9 10 11 12]]\n",
      " \n",
      "[[ 1  2  5  6  7]\n",
      " [ 8  9 10 11 12]\n",
      " [13 14 15 16 17]]\n",
      " \n",
      "[[2]\n",
      " [9]]\n",
      " \n"
     ]
    }
   ],
   "source": [
    "#slicing\n",
    "qwe = np.array([[1,2,5,6,7],[8,9,10,11,12],[13,14,15,16,17]]) #given matix 3d\n",
    "print(qwe)\n",
    "print(\" \")\n",
    "\n",
    "u = qwe[0][2] # for a perticular element\n",
    "print(u)\n",
    "print(' ')\n",
    "\n",
    "u = qwe[0:2] # for a branch of element\n",
    "print(u)\n",
    "print(' ')\n",
    "\n",
    "\n",
    "u = qwe[:] # for a branch of element\n",
    "print(u)\n",
    "print(' ')\n",
    "\n",
    "u = qwe[0:2,1:2] # for a branch of element  [from:to]\n",
    "print(u) \n",
    "print(' ')\n"
   ]
  },
  {
   "cell_type": "code",
   "execution_count": 9,
   "metadata": {},
   "outputs": [
    {
     "data": {
      "text/plain": [
       "array([[ 0,  1,  2,  3,  4],\n",
       "       [ 5,  6,  7,  8,  9],\n",
       "       [10, 11, 12, 13, 14],\n",
       "       [15, 16, 17, 18, 19]])"
      ]
     },
     "execution_count": 9,
     "metadata": {},
     "output_type": "execute_result"
    }
   ],
   "source": [
    "arr1=np.arange(20).reshape(4,5)\n",
    "arr1"
   ]
  },
  {
   "cell_type": "markdown",
   "metadata": {},
   "source": [
    "## Write a numpy code to swap col1([0,5,10,15]) with col4([3,8,13,18])"
   ]
  },
  {
   "cell_type": "code",
   "execution_count": null,
   "metadata": {},
   "outputs": [],
   "source": [
    "arry = np.copy(arr1)"
   ]
  },
  {
   "cell_type": "code",
   "execution_count": null,
   "metadata": {},
   "outputs": [],
   "source": [
    "arry"
   ]
  },
  {
   "cell_type": "code",
   "execution_count": null,
   "metadata": {},
   "outputs": [],
   "source": [
    "arry[:[]]"
   ]
  },
  {
   "cell_type": "markdown",
   "metadata": {},
   "source": [
    "## Write a numpy code to reverse the rows of arr1"
   ]
  },
  {
   "cell_type": "code",
   "execution_count": null,
   "metadata": {},
   "outputs": [],
   "source": []
  },
  {
   "cell_type": "markdown",
   "metadata": {},
   "source": [
    "## Write a code to replace all the nan(missing values) of arr2 with the mean of arr2"
   ]
  },
  {
   "cell_type": "code",
   "execution_count": null,
   "metadata": {},
   "outputs": [],
   "source": [
    "arr2=np.array([[1,2,np.nan],[4,5,6],[np.nan,np.nan,9]])\n",
    "arr2"
   ]
  },
  {
   "cell_type": "code",
   "execution_count": null,
   "metadata": {},
   "outputs": [],
   "source": [
    "arr2[np.isnan(arr2)] = np.nanmean(arr2)\n",
    "arr2"
   ]
  },
  {
   "cell_type": "markdown",
   "metadata": {},
   "source": [
    "## Write a code which can fetch all items from arr3 which are either greater than 35 or a multiple of 3"
   ]
  },
  {
   "cell_type": "code",
   "execution_count": null,
   "metadata": {},
   "outputs": [],
   "source": [
    "arr3=np.random.randint(low=1,high=100,size=20).reshape(5,4)\n",
    "arr3"
   ]
  },
  {
   "cell_type": "code",
   "execution_count": null,
   "metadata": {},
   "outputs": [],
   "source": [
    "arr3[(arr3)]"
   ]
  }
 ],
 "metadata": {
  "kernelspec": {
   "display_name": "Python 3",
   "language": "python",
   "name": "python3"
  },
  "language_info": {
   "codemirror_mode": {
    "name": "ipython",
    "version": 3
   },
   "file_extension": ".py",
   "mimetype": "text/x-python",
   "name": "python",
   "nbconvert_exporter": "python",
   "pygments_lexer": "ipython3",
   "version": "3.7.3"
  }
 },
 "nbformat": 4,
 "nbformat_minor": 2
}
